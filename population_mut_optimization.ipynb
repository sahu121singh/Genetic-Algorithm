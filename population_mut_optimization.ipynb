{
 "cells": [
  {
   "cell_type": "code",
   "execution_count": 24,
   "metadata": {
    "ExecuteTime": {
     "end_time": "2020-05-02T20:09:15.445978Z",
     "start_time": "2020-05-02T20:09:15.441991Z"
    }
   },
   "outputs": [],
   "source": [
    "import random"
   ]
  },
  {
   "cell_type": "markdown",
   "metadata": {},
   "source": [
    "# '''Step 1. Initialization '''"
   ]
  },
  {
   "cell_type": "code",
   "execution_count": 25,
   "metadata": {
    "ExecuteTime": {
     "end_time": "2020-05-02T20:09:15.842020Z",
     "start_time": "2020-05-02T20:09:15.836037Z"
    },
    "code_folding": []
   },
   "outputs": [],
   "source": [
    "def initialization(rows ,cols):\n",
    "    chromosome = [[random.randrange(1,30) for i in range(cols)] for j in range(rows)]\n",
    "    return chromosome"
   ]
  },
  {
   "cell_type": "markdown",
   "metadata": {},
   "source": [
    "# '''Step 2. Evaluation'''"
   ]
  },
  {
   "cell_type": "code",
   "execution_count": 26,
   "metadata": {
    "ExecuteTime": {
     "end_time": "2020-05-02T20:09:16.229844Z",
     "start_time": "2020-05-02T20:09:16.222864Z"
    }
   },
   "outputs": [],
   "source": [
    "def evaluation(chromosome):\n",
    "    F_obj = list()\n",
    "    for i in range(len(chromosome)):\n",
    "        sum = 0\n",
    "        for j in range(len(chromosome[0])):\n",
    "            sum = sum + (chromosome[i][j]*(j+1))\n",
    "        F_obj.append(abs(sum - 30))\n",
    "    return F_obj"
   ]
  },
  {
   "cell_type": "markdown",
   "metadata": {},
   "source": [
    "# '''Step 3. Selection'''"
   ]
  },
  {
   "cell_type": "markdown",
   "metadata": {},
   "source": [
    "## '''Step 3.1. Fitness'''"
   ]
  },
  {
   "cell_type": "code",
   "execution_count": 27,
   "metadata": {
    "ExecuteTime": {
     "end_time": "2020-05-02T20:09:16.740007Z",
     "start_time": "2020-05-02T20:09:16.724351Z"
    }
   },
   "outputs": [],
   "source": [
    "def chro_Fitness(F_obj):\n",
    "    Fitness = [1/(F_obj[i]+1) for i in range(len(F_obj))]\n",
    "    Total = sum(Fitness)\n",
    "    return Fitness, Total"
   ]
  },
  {
   "cell_type": "markdown",
   "metadata": {},
   "source": [
    "## '''Step 3.2. Fitness probability'''"
   ]
  },
  {
   "cell_type": "code",
   "execution_count": 28,
   "metadata": {
    "ExecuteTime": {
     "end_time": "2020-05-02T20:09:17.079940Z",
     "start_time": "2020-05-02T20:09:17.075952Z"
    }
   },
   "outputs": [],
   "source": [
    "def Fitness_Prob(Fitness, Total):\n",
    "    prob = [Fitness[i]/Total for i in range(len(Fitness))]\n",
    "    return prob"
   ]
  },
  {
   "cell_type": "markdown",
   "metadata": {},
   "source": [
    "## '''Step 3.3. Cumulative probability'''"
   ]
  },
  {
   "cell_type": "code",
   "execution_count": 29,
   "metadata": {
    "ExecuteTime": {
     "end_time": "2020-05-02T20:09:17.437704Z",
     "start_time": "2020-05-02T20:09:17.430724Z"
    }
   },
   "outputs": [],
   "source": [
    "def cumulative_Prob(prob):\n",
    "    Cum_prob = list()\n",
    "    cum = 0\n",
    "    for i in range(len(prob)):\n",
    "        cum = cum + prob[i]\n",
    "        Cum_prob.append(cum)\n",
    "    return Cum_prob"
   ]
  },
  {
   "cell_type": "markdown",
   "metadata": {},
   "source": [
    "## '''Step 3.4. Generate random number R'''"
   ]
  },
  {
   "cell_type": "code",
   "execution_count": 30,
   "metadata": {
    "ExecuteTime": {
     "end_time": "2020-05-02T20:09:17.819739Z",
     "start_time": "2020-05-02T20:09:17.812758Z"
    }
   },
   "outputs": [],
   "source": [
    "def genrate_RandomNo(Cum_prob):\n",
    "    R = list()\n",
    "    for i in range(len(Cum_prob)):\n",
    "        r = random.random()\n",
    "        R.append(r)\n",
    "    return R"
   ]
  },
  {
   "cell_type": "markdown",
   "metadata": {},
   "source": [
    "## '''Step 3.5. New population for next generation'''"
   ]
  },
  {
   "cell_type": "code",
   "execution_count": 31,
   "metadata": {
    "ExecuteTime": {
     "end_time": "2020-05-02T20:09:18.179371Z",
     "start_time": "2020-05-02T20:09:18.171393Z"
    }
   },
   "outputs": [],
   "source": [
    "def chro_new(R, chromosome, Cum_prob):\n",
    "    NewChromosome = []*len(R)\n",
    "    for n in range(len(R)):\n",
    "        for (i, individual) in enumerate(chromosome):\n",
    "            if R[n] <= Cum_prob[i]:\n",
    "                NewChromosome.append(list(individual))\n",
    "                break\n",
    "    return NewChromosome"
   ]
  },
  {
   "cell_type": "markdown",
   "metadata": {},
   "source": [
    "## '''Step 3.6. Pseudo-code for the crossover process'''"
   ]
  },
  {
   "cell_type": "code",
   "execution_count": 32,
   "metadata": {
    "ExecuteTime": {
     "end_time": "2020-05-02T20:09:18.531282Z",
     "start_time": "2020-05-02T20:09:18.519315Z"
    }
   },
   "outputs": [],
   "source": [
    "def chromo_sel(NewChromosome):\n",
    "    k = 0\n",
    "    pc = (int(input(\"% value in int for crossover: \")))/100\n",
    "    R1 = genrate_RandomNo(NewChromosome)\n",
    "    print(R1)\n",
    "    parent = []\n",
    "    pos = []\n",
    "    list1 = {}\n",
    "    while(k < len(NewChromosome)):\n",
    "        if R1[k] < pc:\n",
    "            list1[R1[k]] = NewChromosome[k]\n",
    "            pos.append(k) \n",
    "        k+=1\n",
    "    print(list1, pos)\n",
    "    for i in sorted(list1.keys()):\n",
    "        parent.append(list1[i])\n",
    "    return parent, pos"
   ]
  },
  {
   "cell_type": "markdown",
   "metadata": {},
   "source": [
    "## '''Step 3.7. Chromosome population after experiencing a crossover process'''"
   ]
  },
  {
   "cell_type": "code",
   "execution_count": 33,
   "metadata": {
    "ExecuteTime": {
     "end_time": "2020-05-02T20:09:18.971297Z",
     "start_time": "2020-05-02T20:09:18.964318Z"
    }
   },
   "outputs": [],
   "source": [
    "def cross(NewChromosome, parent, pos):\n",
    "    for i in range(len(parent)):\n",
    "        point = random.randrange(1, len(NewChromosome[0]))\n",
    "        NewChromosome[pos[i]] = NewChromosome[pos[i]][:point] + parent[i][point:]\n",
    "        print(pos[i],point, NewChromosome[pos[i]])\n",
    "    #print(NewChromosome)\n",
    "    return NewChromosome"
   ]
  },
  {
   "cell_type": "markdown",
   "metadata": {},
   "source": [
    "# '''Step 4. Mutation '''"
   ]
  },
  {
   "cell_type": "code",
   "execution_count": 34,
   "metadata": {
    "ExecuteTime": {
     "end_time": "2020-05-02T20:09:19.627510Z",
     "start_time": "2020-05-02T20:09:19.613549Z"
    }
   },
   "outputs": [],
   "source": [
    "def mutation(cross_over):\n",
    "    total_gen = len(cross_over[0]) * len(cross_over)\n",
    "    pm = (int(input(\"% value in int for mutation_rate: \")))/100\n",
    "    total_gen_mut = int(total_gen*pm)\n",
    "    print(\"total_gen in the population that will be mutated: \", total_gen_mut)\n",
    "    random_pos = [random.randint(1,24) for i in range(total_gen_mut)]\n",
    "    genes = [cross_over[i][j] for i in range(len(cross_over)) for j in range(len(cross_over[0]))]\n",
    "    print(random_pos)\n",
    "    for k in random_pos:\n",
    "        for i in range(len(genes)):\n",
    "            if (i+1) == k:\n",
    "                rand_no = random.randrange(1,30)\n",
    "                genes[i] = rand_no\n",
    "                print(rand_no)\n",
    "    n = len(cross_over[0])\n",
    "    mutted_chrom = [genes[i:i+n] for i in range(0, len(genes), n)]\n",
    "    return mutted_chrom"
   ]
  },
  {
   "cell_type": "code",
   "execution_count": 35,
   "metadata": {
    "ExecuteTime": {
     "end_time": "2020-05-02T20:09:25.364171Z",
     "start_time": "2020-05-02T20:09:20.261598Z"
    }
   },
   "outputs": [
    {
     "name": "stdout",
     "output_type": "stream",
     "text": [
      "no. of chromosome: 6\n",
      "no. of variables: 4\n",
      "*****\n",
      " [[26, 5, 18, 14], [19, 9, 4, 1], [4, 21, 7, 16], [26, 15, 27, 12], [3, 7, 7, 24], [25, 27, 24, 24]] \n",
      "\n",
      "*****\n",
      " [116, 23, 101, 155, 104, 217] \n",
      "\n",
      "*****\n",
      " [0.008547008547008548, 0.041666666666666664, 0.00980392156862745, 0.00641025641025641, 0.009523809523809525, 0.0045871559633027525] \n",
      " *****\n",
      " 0.08053881867967136 \n",
      "\n",
      "*****\n",
      " [0.10612284469930872, 0.5173488679091299, 0.12172914539038351, 0.07959213352448152, 0.11825116980780115, 0.056955838668895045] \n",
      "\n",
      "*****\n",
      " [0.10612284469930872, 0.6234717126084386, 0.7452008579988221, 0.8247929915233037, 0.9430441613311048, 0.9999999999999999] \n",
      "\n",
      "*****\n",
      " [0.8351257528596485, 0.9525673851137478, 0.460819926438626, 0.97386534228614, 0.7254714574926477, 0.4626554875989065] \n",
      "\n",
      "[26, 5, 18, 14]    0.10612284469930872    0.8351257528596485\n",
      "[19, 9, 4, 1]    0.6234717126084386    0.9525673851137478\n",
      "[4, 21, 7, 16]    0.7452008579988221    0.460819926438626\n",
      "[26, 15, 27, 12]    0.8247929915233037    0.97386534228614\n",
      "[3, 7, 7, 24]    0.9430441613311048    0.7254714574926477\n",
      "[25, 27, 24, 24]    0.9999999999999999    0.4626554875989065\n",
      "**** NewChromosome\n",
      " [[3, 7, 7, 24], [25, 27, 24, 24], [19, 9, 4, 1], [25, 27, 24, 24], [4, 21, 7, 16], [19, 9, 4, 1]] \n",
      "\n",
      "% value in int for crossover: 50\n",
      "[0.4990809636330893, 0.04691443454781574, 0.9980401985661761, 0.9500713741742556, 0.4804308395078004, 0.14038835011532236]\n",
      "{0.4990809636330893: [3, 7, 7, 24], 0.04691443454781574: [25, 27, 24, 24], 0.4804308395078004: [4, 21, 7, 16], 0.14038835011532236: [19, 9, 4, 1]} [0, 1, 4, 5]\n",
      "**** chromosome selection\n",
      " [[25, 27, 24, 24], [19, 9, 4, 1], [4, 21, 7, 16], [3, 7, 7, 24]] [0, 1, 4, 5] \n",
      "\n",
      "0 3 [3, 7, 7, 24]\n",
      "1 1 [25, 9, 4, 1]\n",
      "4 2 [4, 21, 7, 16]\n",
      "5 2 [19, 9, 7, 24]\n",
      "**** cross_over\n",
      " [[3, 7, 7, 24], [25, 9, 4, 1], [19, 9, 4, 1], [25, 27, 24, 24], [4, 21, 7, 16], [19, 9, 7, 24]] \n",
      "\n",
      "% value in int for mutation_rate: 10\n",
      "total_gen in the population that will be mutated:  2\n",
      "[11, 16]\n",
      "17\n",
      "20\n",
      "**** mutation\n",
      " [[3, 7, 7, 24], [25, 9, 4, 1], [19, 9, 17, 1], [25, 27, 24, 20], [4, 21, 7, 16], [19, 9, 7, 24]] \n",
      "\n"
     ]
    }
   ],
   "source": [
    "no_of_chro = int(input('no. of chromosome: '))        #  number of chromosomes in population\n",
    "no_of_var = int(input('no. of variables: '))          #  number of variables\n",
    "\n",
    "chromosome = initialization(no_of_chro, no_of_var)    #  generate random value of gene for chromosomes\n",
    "print('*****\\n',chromosome,'\\n')\n",
    "\n",
    "F_obj = evaluation(chromosome)                        #  compute the objective function value for each chromosome\n",
    "print('*****\\n',F_obj,'\\n')\n",
    "\n",
    "Fitness, Total = chro_Fitness(F_obj)                  #  fitness of each chromosome\n",
    "print('*****\\n',Fitness,'\\n','*****\\n',Total,'\\n')\n",
    "\n",
    "Probability = Fitness_Prob(Fitness, Total)            #  probability for each chromosomes\n",
    "print('*****\\n',Probability,'\\n')\n",
    "\n",
    "Cum_Probability = cumulative_Prob(Probability)        #  compute the cumulative probability values\n",
    "print('*****\\n',Cum_Probability,'\\n')\n",
    "\n",
    "Rand_No = genrate_RandomNo(Cum_Probability)           #  generate random number R in the range 0-1\n",
    "print('*****\\n',Rand_No,'\\n')\n",
    "\n",
    "for i in range(no_of_chro):\n",
    "    print(chromosome[i],'  ', Cum_Probability[i],'  ', Rand_No[i])\n",
    "\n",
    "NewChromosome = chro_new(Rand_No, chromosome, Cum_Probability)    #  new population for next generation\n",
    "print('**** NewChromosome\\n',NewChromosome,'\\n')\n",
    "\n",
    "parent, position = chromo_sel(NewChromosome)                      #  crossover_rate process\n",
    "print('**** chromosome selection\\n',parent, position, '\\n')\n",
    "\n",
    "cross_over = cross(NewChromosome, parent, position)               #  Chromosome population after crossover process\n",
    "print('**** cross_over\\n',cross_over, '\\n')\n",
    "\n",
    "mut = mutation(cross_over)                                        #  Chromosome composition after mutation\n",
    "print('**** mutation\\n',mut, '\\n')"
   ]
  },
  {
   "cell_type": "code",
   "execution_count": null,
   "metadata": {},
   "outputs": [],
   "source": []
  },
  {
   "cell_type": "code",
   "execution_count": null,
   "metadata": {},
   "outputs": [],
   "source": []
  },
  {
   "cell_type": "code",
   "execution_count": null,
   "metadata": {},
   "outputs": [],
   "source": []
  },
  {
   "cell_type": "code",
   "execution_count": null,
   "metadata": {},
   "outputs": [],
   "source": []
  },
  {
   "cell_type": "code",
   "execution_count": null,
   "metadata": {},
   "outputs": [],
   "source": []
  },
  {
   "cell_type": "code",
   "execution_count": null,
   "metadata": {},
   "outputs": [],
   "source": [
    "\n",
    "        \n",
    "    "
   ]
  },
  {
   "cell_type": "code",
   "execution_count": null,
   "metadata": {},
   "outputs": [],
   "source": []
  },
  {
   "cell_type": "code",
   "execution_count": null,
   "metadata": {},
   "outputs": [],
   "source": []
  }
 ],
 "metadata": {
  "kernelspec": {
   "display_name": "Python 3",
   "language": "python",
   "name": "python3"
  },
  "language_info": {
   "codemirror_mode": {
    "name": "ipython",
    "version": 3
   },
   "file_extension": ".py",
   "mimetype": "text/x-python",
   "name": "python",
   "nbconvert_exporter": "python",
   "pygments_lexer": "ipython3",
   "version": "3.7.6"
  }
 },
 "nbformat": 4,
 "nbformat_minor": 4
}
