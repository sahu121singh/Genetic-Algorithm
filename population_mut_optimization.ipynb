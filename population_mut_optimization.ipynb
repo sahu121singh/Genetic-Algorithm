{
 "cells": [
  {
   "cell_type": "code",
   "execution_count": 1,
   "metadata": {
    "ExecuteTime": {
     "end_time": "2020-05-03T11:48:17.533754Z",
     "start_time": "2020-05-03T11:48:17.525732Z"
    }
   },
   "outputs": [],
   "source": [
    "import random                                  # used for random number generation\n",
    "from tabulate import tabulate                  # used to show data in tabular form"
   ]
  },
  {
   "cell_type": "markdown",
   "metadata": {},
   "source": [
    "# '''Step 1. Initialization '''"
   ]
  },
  {
   "cell_type": "code",
   "execution_count": 2,
   "metadata": {
    "ExecuteTime": {
     "end_time": "2020-05-03T11:48:17.947227Z",
     "start_time": "2020-05-03T11:48:17.941094Z"
    },
    "code_folding": []
   },
   "outputs": [],
   "source": [
    "# used to generate random value of genes a, b, c, d for 6 chromosomes\n",
    "\n",
    "def initialization(rows ,cols): \n",
    "    chromosome = [[random.randrange(1,30) for i in range(cols)] for j in range(rows)]\n",
    "    return chromosome"
   ]
  },
  {
   "cell_type": "markdown",
   "metadata": {},
   "source": [
    "# '''Step 2. Evaluation'''"
   ]
  },
  {
   "cell_type": "code",
   "execution_count": 3,
   "metadata": {
    "ExecuteTime": {
     "end_time": "2020-05-03T11:48:18.341594Z",
     "start_time": "2020-05-03T11:48:18.330603Z"
    }
   },
   "outputs": [],
   "source": [
    "''' F_obj = 1*a + 2*b + 3*c + 4*d ...........'''\n",
    "\n",
    "# used to compute the objective function value for each chromosome produced in initialization \n",
    "\n",
    "def evaluation(chromosome):                    \n",
    "    F_obj = list()\n",
    "    for i in range(len(chromosome)):\n",
    "        sum = 0\n",
    "        for j in range(len(chromosome[0])):\n",
    "            sum = sum + ((j+1)*chromosome[i][j])\n",
    "        F_obj.append(abs(sum - 30))\n",
    "    return F_obj"
   ]
  },
  {
   "cell_type": "markdown",
   "metadata": {},
   "source": [
    "# '''Step 3. Selection'''"
   ]
  },
  {
   "cell_type": "markdown",
   "metadata": {},
   "source": [
    "## '''Step 3.1. Fitness'''"
   ]
  },
  {
   "cell_type": "code",
   "execution_count": 4,
   "metadata": {
    "ExecuteTime": {
     "end_time": "2020-05-03T11:48:18.918040Z",
     "start_time": "2020-05-03T11:48:18.910003Z"
    }
   },
   "outputs": [],
   "source": [
    "# used to compute fitness probability we must compute the fitness of each chromosome\n",
    "\n",
    "def chro_Fitness(F_obj):\n",
    "    Fitness = [float('%.4f' % (1/(F_obj[i]+1))) for i in range(len(F_obj))]\n",
    "    Total = float('%.4f' % sum(Fitness))\n",
    "    return Fitness, Total"
   ]
  },
  {
   "cell_type": "markdown",
   "metadata": {},
   "source": [
    "## '''Step 3.2. Fitness probability'''"
   ]
  },
  {
   "cell_type": "code",
   "execution_count": 5,
   "metadata": {
    "ExecuteTime": {
     "end_time": "2020-05-03T11:48:19.309100Z",
     "start_time": "2020-05-03T11:48:19.300631Z"
    }
   },
   "outputs": [],
   "source": [
    "# used to compute probability for each chromosomes, formulated by: P[i] = Fitness[i] / Total\n",
    "\n",
    "def Fitness_Prob(Fitness, Total):\n",
    "    prob = [float('%.4f' % (Fitness[i]/Total)) for i in range(len(Fitness))]\n",
    "    return prob"
   ]
  },
  {
   "cell_type": "markdown",
   "metadata": {},
   "source": [
    "## '''Step 3.3. Cumulative probability'''"
   ]
  },
  {
   "cell_type": "code",
   "execution_count": 6,
   "metadata": {
    "ExecuteTime": {
     "end_time": "2020-05-03T11:48:19.727675Z",
     "start_time": "2020-05-03T11:48:19.719294Z"
    }
   },
   "outputs": [],
   "source": [
    "# used to compute the cumulative probability values, use in roulette wheel process\n",
    "\n",
    "def cumulative_Prob(prob): \n",
    "    Cum_prob = list()\n",
    "    cum = 0\n",
    "    for i in range(len(prob)):\n",
    "        cum = float('%.4f' % (cum + prob[i]))\n",
    "        Cum_prob.append(cum)\n",
    "    return Cum_prob"
   ]
  },
  {
   "cell_type": "markdown",
   "metadata": {},
   "source": [
    "## '''Step 3.4. Generate random number R'''"
   ]
  },
  {
   "cell_type": "code",
   "execution_count": 7,
   "metadata": {
    "ExecuteTime": {
     "end_time": "2020-05-03T11:48:20.227895Z",
     "start_time": "2020-05-03T11:48:20.207959Z"
    }
   },
   "outputs": [],
   "source": [
    "# used to generate random number R in the range 0-1\n",
    "\n",
    "# id = a   ==> fixed random no. used in chromosome selection  else for use in crossover rate\n",
    "\n",
    "def genrate_RandomNo(Cum_prob, id):\n",
    "    print(\"\\n************ for random no. generator **************\")\n",
    "    while True:\n",
    "        choice = input(\"\\n1. Fixed random number as doc  \\n2. Generate randomly \\n3. Want to self enter '(0-1)': \")\n",
    "        if choice in ('1', '2', '3'):\n",
    "            if choice == '1':                                             #  for fixed random number\n",
    "                if id == 'a':\n",
    "                    return [0.201, 0.284, 0.099, 0.822, 0.398, 0.501]\n",
    "                else:\n",
    "                    return [0.191, 0.259, 0.760, 0.006, 0.159, 0.340]\n",
    "            elif choice == '2':                                           # to generate randomly\n",
    "                R = list()\n",
    "                for i in range(len(Cum_prob)):\n",
    "                    r = float('%.4f' % random.random())\n",
    "                    R.append(r)\n",
    "                return R\n",
    "            elif choice == '3':                                           # for user generated random no.\n",
    "                return list(map(float, input(\"enter splitted values in a line: \").strip().split()))[:len(Cum_prob)]\n",
    "            break\n",
    "        else:\n",
    "            print(\"Invalid Input\")\n"
   ]
  },
  {
   "cell_type": "markdown",
   "metadata": {},
   "source": [
    "## '''Step 3.5. New population for next generation'''"
   ]
  },
  {
   "cell_type": "code",
   "execution_count": 8,
   "metadata": {
    "ExecuteTime": {
     "end_time": "2020-05-03T11:48:21.074384Z",
     "start_time": "2020-05-03T11:48:21.061996Z"
    }
   },
   "outputs": [],
   "source": [
    "#used for chromosome in the new population for next generation by comparing value of random no. and cumulative probability\n",
    "\n",
    "def chro_new(R, chromosome, Cum_prob):\n",
    "    NewChromosome = []*len(R)                                # create empty list for new chromosome or population\n",
    "    for n in range(len(R)):\n",
    "        for (i, individual) in enumerate(chromosome):\n",
    "            if R[n] <= Cum_prob[i]:                          # comparison between random no. and cumulative probability\n",
    "                NewChromosome.append(list(individual))\n",
    "                break\n",
    "    return NewChromosome"
   ]
  },
  {
   "cell_type": "markdown",
   "metadata": {},
   "source": [
    "## '''Step 3.6. Pseudo-code for the crossover process'''"
   ]
  },
  {
   "cell_type": "code",
   "execution_count": 9,
   "metadata": {
    "ExecuteTime": {
     "end_time": "2020-05-03T11:48:24.367570Z",
     "start_time": "2020-05-03T11:48:24.355337Z"
    }
   },
   "outputs": [],
   "source": [
    "# used for randomly select a position in the parent chromosome then exchanging sub-chromosome\n",
    "\n",
    "def chromo_sel(NewChromosome):\n",
    "    k = 0                                                         # starting point of pseudo code\n",
    "    pc = (int(input(\"\\n% value in int for crossover: \")))/100     # for crossover rate\n",
    "    R1 = genrate_RandomNo(NewChromosome, 'b')                     # to generate random numbers between 0 and 1\n",
    "    #print(R1)\n",
    "    \n",
    "    # to store Chromosome at number k, will be selected for crossover if random generated value for Chromosome k below pc\n",
    "    parent = []                                                   \n",
    "    pos = []                                    # to store current position of old chromosome\n",
    "    \n",
    "    list1 = {}                                  # to store random no. and chromosome\n",
    "    while(k < len(NewChromosome)):\n",
    "        if R1[k] < pc:                          # comparison of random no. and crossover rate\n",
    "            list1[R1[k]] = NewChromosome[k]\n",
    "            pos.append(k) \n",
    "        k+=1\n",
    "    print(\"\\n************** Table 2 ********************** Table 2 ********************** Table 2 *********************\")\n",
    "    title2 = ['Rand_no1','Rand_no1 <.25','chromosome associated with Rand_no1','position of chromosome in newchromo list']\n",
    "    table2 = [R1, list1.keys(), list1.values(), pos]\n",
    "    print(tabulate(table2, showindex=title2))\n",
    "    \n",
    "    for i in sorted(list1.keys()):      # sorted list of chromosomes or parent according to sorted respective random no.\n",
    "        parent.append(list1[i])\n",
    "    return parent, pos"
   ]
  },
  {
   "cell_type": "markdown",
   "metadata": {},
   "source": [
    "## '''Step 3.7. Chromosome population after experiencing a crossover process'''"
   ]
  },
  {
   "cell_type": "code",
   "execution_count": 10,
   "metadata": {
    "ExecuteTime": {
     "end_time": "2020-05-03T11:48:26.909466Z",
     "start_time": "2020-05-03T11:48:26.899937Z"
    }
   },
   "outputs": [],
   "source": [
    "# crossover process\n",
    "\n",
    "def cross(NewChromosome, parent, pos):\n",
    "    list1=[]       # used for store position of chromosome in origianl or initial one\n",
    "    list2=[]       # used for store exchange point of sub-chromosomes\n",
    "    list3=[]       # used for store chromosome that is generated through exchanging sub-chromosome\n",
    "    for i in range(len(parent)):\n",
    "        point = random.randrange(1, len(NewChromosome[0]))                           # use to generate random points\n",
    "        NewChromosome[pos[i]] = NewChromosome[pos[i]][:point] + parent[i][point:]    # for exchanging sub-chromosome\n",
    "        list1.append(pos[i])\n",
    "        list2.append(point)\n",
    "        list3.append(NewChromosome[pos[i]])\n",
    "        \n",
    "    print(\"\\n************** Table 4 ********************** Table 4 ********************** Table 4 *********************\")\n",
    "    title4 = ['position','exchange_point', 'generated_chromosome']\n",
    "    table4 = [list1, list2, list3]\n",
    "    print(tabulate(table4, showindex=title4))\n",
    "    return NewChromosome"
   ]
  },
  {
   "cell_type": "markdown",
   "metadata": {},
   "source": [
    "# '''Step 4. Mutation '''"
   ]
  },
  {
   "cell_type": "code",
   "execution_count": 11,
   "metadata": {
    "ExecuteTime": {
     "end_time": "2020-05-03T11:48:30.345630Z",
     "start_time": "2020-05-03T11:48:30.333220Z"
    }
   },
   "outputs": [],
   "source": [
    "# for mutation process\n",
    "\n",
    "def mutation(cross_over):\n",
    "    total_gen = len(cross_over[0]) * len(cross_over)                # to find total length of genes\n",
    "    pm = (int(input(\"\\n% value in int for mutation_rate: \")))/100   # for mutation_rate\n",
    "    total_gen_mut = int(total_gen*pm)                               # for no. of mutation\n",
    "    print(\"\\ntotal_gen in the population that will be mutated: \", total_gen_mut)\n",
    "    random_pos = [random.randint(1,24) for i in range(total_gen_mut)]  # for random position generation\n",
    "    genes = [cross_over[i][j] for i in range(len(cross_over)) for j in range(len(cross_over[0]))]\n",
    "    rand_no2 = []\n",
    "    for k in random_pos:\n",
    "        for i in range(len(genes)):\n",
    "            if (i+1) == k:\n",
    "                rand_no = random.randrange(1,30)\n",
    "                genes[i] = rand_no\n",
    "                rand_no2.append(rand_no)\n",
    "    \n",
    "    print(\"\\n************** Table 5 ********************** Table 5 ********************** Table 5 *********************\")\n",
    "    title5 = ['mutation_position','random_no for gene']\n",
    "    table5 = [random_pos, rand_no2]\n",
    "    print(tabulate(table5, showindex=title5))\n",
    "    \n",
    "    n = len(cross_over[0])\n",
    "    mutted_chrom = [genes[i:i+n] for i in range(0, len(genes), n)]\n",
    "    return mutted_chrom"
   ]
  },
  {
   "cell_type": "code",
   "execution_count": null,
   "metadata": {},
   "outputs": [],
   "source": []
  },
  {
   "cell_type": "code",
   "execution_count": 12,
   "metadata": {
    "ExecuteTime": {
     "end_time": "2020-05-03T11:48:41.048301Z",
     "start_time": "2020-05-03T11:48:37.084038Z"
    }
   },
   "outputs": [
    {
     "name": "stdout",
     "output_type": "stream",
     "text": [
      "no. of chromosome: 6\n",
      "no. of variables  : 4\n"
     ]
    }
   ],
   "source": [
    "no_of_chro = int(input('no. of chromosome: '))        #  number of chromosomes in population\n",
    "no_of_var = int(input('no. of variables  : '))          #  number of variables\n",
    "\n",
    "chromosome = initialization(no_of_chro, no_of_var)    #  generate random value of gene for chromosomes"
   ]
  },
  {
   "cell_type": "code",
   "execution_count": 13,
   "metadata": {
    "ExecuteTime": {
     "end_time": "2020-05-03T11:49:08.065094Z",
     "start_time": "2020-05-03T11:48:43.233794Z"
    }
   },
   "outputs": [
    {
     "name": "stdout",
     "output_type": "stream",
     "text": [
      "Enter no. of loop: 2\n",
      "\n",
      "***** Total of Fitness:  0.0827 \n",
      "\n",
      "\n",
      "************ for random no. generator **************\n",
      "\n",
      "1. Fixed random number as doc  \n",
      "2. Generate randomly \n",
      "3. Want to self enter '(0-1)': 1\n",
      "\n",
      "************** Table 1 ********************** Table 1 ********************** Table 1 *********************\n",
      "---------------  --------------  ---------------  ---------------  --------------  --------------  ----------------\n",
      "chromosome       [13, 12, 4, 1]  [13, 4, 23, 13]  [21, 22, 2, 27]  [1, 3, 24, 11]  [7, 4, 28, 28]  [29, 10, 14, 11]\n",
      "F_obj            23              112              149              93              181             105\n",
      "Fitness          0.0417          0.0088           0.0067           0.0106          0.0055          0.0094\n",
      "Probability      0.5042          0.1064           0.081            0.1282          0.0665          0.1137\n",
      "Cum_Probability  0.5042          0.6106           0.6916           0.8198          0.8863          1.0\n",
      "\n",
      "Rand_No          0.201           0.284            0.099            0.822           0.398           0.501\n",
      "NewChromosome    [13, 12, 4, 1]  [13, 12, 4, 1]   [13, 12, 4, 1]   [7, 4, 28, 28]  [13, 12, 4, 1]  [13, 12, 4, 1]\n",
      "---------------  --------------  ---------------  ---------------  --------------  --------------  ----------------\n",
      "\n",
      "% value in int for crossover: 25\n",
      "\n",
      "************ for random no. generator **************\n",
      "\n",
      "1. Fixed random number as doc  \n",
      "2. Generate randomly \n",
      "3. Want to self enter '(0-1)': 1\n",
      "\n",
      "************** Table 2 ********************** Table 2 ********************** Table 2 *********************\n",
      "----------------------------------------  --------------  --------------  --------------  -----  -----  ----\n",
      "Rand_no1                                  0.191           0.259           0.76            0.006  0.159  0.34\n",
      "Rand_no1 <.25                             0.191           0.006           0.159\n",
      "chromosome associated with Rand_no1       [13, 12, 4, 1]  [7, 4, 28, 28]  [13, 12, 4, 1]\n",
      "position of chromosome in newchromo list  0               3               4\n",
      "----------------------------------------  --------------  --------------  --------------  -----  -----  ----\n",
      "\n",
      "************** Table 3 ********************** Table 3 ********************** Table 3 *********************\n",
      "-------------------------------  --------------  --------------  --------------\n",
      "parent '('sorted as Rand_no1')'  [7, 4, 28, 28]  [13, 12, 4, 1]  [13, 12, 4, 1]\n",
      "position                         0               3               4\n",
      "-------------------------------  --------------  --------------  --------------\n",
      "\n",
      "************** Table 4 ********************** Table 4 ********************** Table 4 *********************\n",
      "--------------------  ----------------  ------------  --------------\n",
      "position              0                 3             4\n",
      "exchange_point        2                 2             2\n",
      "generated_chromosome  [13, 12, 28, 28]  [7, 4, 4, 1]  [13, 12, 4, 1]\n",
      "--------------------  ----------------  ------------  --------------\n",
      "\n",
      "% value in int for mutation_rate: 10\n",
      "\n",
      "total_gen in the population that will be mutated:  2\n",
      "\n",
      "************** Table 5 ********************** Table 5 ********************** Table 5 *********************\n",
      "------------------  --  --\n",
      "mutation_position   17  21\n",
      "random_no for gene  27  29\n",
      "------------------  --  --\n",
      "\n",
      "************** Table 6 ********************** Table 6 ********************** Table 6 *********************\n",
      "----------------------  ----------------  --------------  --------------  ------------  --------------  --------------\n",
      "crossovered_chromosome  [13, 12, 28, 28]  [13, 12, 4, 1]  [13, 12, 4, 1]  [7, 4, 4, 1]  [13, 12, 4, 1]  [13, 12, 4, 1]\n",
      "mutated_chromosome      [13, 12, 28, 28]  [13, 12, 4, 1]  [13, 12, 4, 1]  [7, 4, 4, 1]  [27, 12, 4, 1]  [29, 12, 4, 1]\n",
      "----------------------  ----------------  --------------  --------------  ------------  --------------  --------------\n",
      "\n",
      "***** Total of Fitness:  0.6396 \n",
      "\n",
      "\n",
      "************ for random no. generator **************\n",
      "\n",
      "1. Fixed random number as doc  \n",
      "2. Generate randomly \n",
      "3. Want to self enter '(0-1)': 2\n",
      "\n",
      "************** Table 1 ********************** Table 1 ********************** Table 1 *********************\n",
      "---------------  ----------------  --------------  --------------  ------------  --------------  --------------\n",
      "chromosome       [13, 12, 28, 28]  [13, 12, 4, 1]  [13, 12, 4, 1]  [7, 4, 4, 1]  [27, 12, 4, 1]  [29, 12, 4, 1]\n",
      "F_obj            203               23              23              1             37              39\n",
      "Fitness          0.0049            0.0417          0.0417          0.5           0.0263          0.025\n",
      "Probability      0.0077            0.0652          0.0652          0.7817        0.0411          0.0391\n",
      "Cum_Probability  0.0077            0.0729          0.1381          0.9198        0.9609          1.0\n",
      "\n",
      "Rand_No          0.5873            0.0437          0.1922          0.1571        0.4572          0.5008\n",
      "NewChromosome    [7, 4, 4, 1]      [13, 12, 4, 1]  [7, 4, 4, 1]    [7, 4, 4, 1]  [7, 4, 4, 1]    [7, 4, 4, 1]\n",
      "---------------  ----------------  --------------  --------------  ------------  --------------  --------------\n",
      "\n",
      "% value in int for crossover: 3\n",
      "\n",
      "************ for random no. generator **************\n",
      "\n",
      "1. Fixed random number as doc  \n",
      "2. Generate randomly \n",
      "3. Want to self enter '(0-1)': 2\n",
      "\n",
      "************** Table 2 ********************** Table 2 ********************** Table 2 *********************\n",
      "----------------------------------------  ------  ------  ------  ------  ------  ------\n",
      "Rand_no1                                  0.4433  0.3885  0.4854  0.7393  0.7342  0.1139\n",
      "Rand_no1 <.25\n",
      "chromosome associated with Rand_no1\n",
      "position of chromosome in newchromo list\n",
      "----------------------------------------  ------  ------  ------  ------  ------  ------\n",
      "\n",
      "************** Table 3 ********************** Table 3 ********************** Table 3 *********************\n",
      "-------------------------------\n",
      "parent '('sorted as Rand_no1')'\n",
      "position\n",
      "-------------------------------\n",
      "\n",
      "************** Table 4 ********************** Table 4 ********************** Table 4 *********************\n",
      "--------------------\n",
      "position\n",
      "exchange_point\n",
      "generated_chromosome\n",
      "--------------------\n",
      "\n",
      "% value in int for mutation_rate: 10\n",
      "\n",
      "total_gen in the population that will be mutated:  2\n",
      "\n",
      "************** Table 5 ********************** Table 5 ********************** Table 5 *********************\n",
      "------------------  --  --\n",
      "mutation_position    2   1\n",
      "random_no for gene  27  27\n",
      "------------------  --  --\n",
      "\n",
      "************** Table 6 ********************** Table 6 ********************** Table 6 *********************\n",
      "----------------------  --------------  --------------  ------------  ------------  ------------  ------------\n",
      "crossovered_chromosome  [7, 4, 4, 1]    [13, 12, 4, 1]  [7, 4, 4, 1]  [7, 4, 4, 1]  [7, 4, 4, 1]  [7, 4, 4, 1]\n",
      "mutated_chromosome      [27, 27, 4, 1]  [13, 12, 4, 1]  [7, 4, 4, 1]  [7, 4, 4, 1]  [7, 4, 4, 1]  [7, 4, 4, 1]\n",
      "----------------------  --------------  --------------  ------------  ------------  ------------  ------------\n"
     ]
    }
   ],
   "source": [
    "loop = int(input(\"Enter no. of loop: \"))\n",
    "for oop in range(loop):\n",
    "    F_obj = evaluation(chromosome)                        #  compute the objective function value for each chromosome\n",
    "    Fitness, Total = chro_Fitness(F_obj)                  #  fitness of each chromosome\n",
    "    Probability = Fitness_Prob(Fitness, Total)            #  probability for each chromosomes\n",
    "    Cum_Probability = cumulative_Prob(Probability)        #  compute the cumulative probability values\n",
    "\n",
    "    print('\\n***** Total of Fitness: ',Total,'\\n')        #  Total of Fitness use to compute probability\n",
    "\n",
    "    empty = [' ']*no_of_chro   ##########################################################################################\n",
    "\n",
    "    Rand_No = genrate_RandomNo(Cum_Probability, 'a')                       #  generate random number R in the range 0-1\n",
    "    NewChromosome = chro_new(Rand_No, chromosome, Cum_Probability)    #  new population for next generation\n",
    "\n",
    "    print(\"\\n************** Table 1 ********************** Table 1 ********************** Table 1 *********************\")\n",
    "    title1 = ['chromosome','F_obj', 'Fitness','Probability' ,'Cum_Probability',' ','Rand_No', 'NewChromosome']\n",
    "    table1 = [chromosome, F_obj, Fitness, Probability, Cum_Probability, empty, Rand_No, NewChromosome]\n",
    "    print(tabulate(table1, showindex=title1))\n",
    "\n",
    "    parent, position = chromo_sel(NewChromosome)                      #  crossover_rate process\n",
    "\n",
    "    print(\"\\n************** Table 3 ********************** Table 3 ********************** Table 3 *********************\")\n",
    "    title3 = [\"parent '('sorted as Rand_no1')' \",'position']\n",
    "    table3 = [parent, position]\n",
    "    print(tabulate(table3, showindex=title3))\n",
    "\n",
    "    cross_over = cross(NewChromosome, parent, position)               #  Chromosome population after crossover process\n",
    "    mutate = mutation(cross_over)                                        #  Chromosome composition after mutation\n",
    "\n",
    "    print(\"\\n************** Table 6 ********************** Table 6 ********************** Table 6 *********************\")\n",
    "    title6 = ['crossovered_chromosome', 'mutated_chromosome']\n",
    "    table6 = [cross_over, mutate]\n",
    "    print(tabulate(table6, showindex=title6))\n",
    "    \n",
    "    chromosome = mutate"
   ]
  },
  {
   "cell_type": "code",
   "execution_count": null,
   "metadata": {},
   "outputs": [],
   "source": []
  },
  {
   "cell_type": "code",
   "execution_count": null,
   "metadata": {},
   "outputs": [],
   "source": []
  },
  {
   "cell_type": "code",
   "execution_count": null,
   "metadata": {},
   "outputs": [],
   "source": []
  },
  {
   "cell_type": "code",
   "execution_count": 14,
   "metadata": {
    "ExecuteTime": {
     "end_time": "2020-05-03T11:49:14.407781Z",
     "start_time": "2020-05-03T11:49:14.397994Z"
    }
   },
   "outputs": [],
   "source": [
    "#########################       single time run    #####################################"
   ]
  },
  {
   "cell_type": "code",
   "execution_count": 15,
   "metadata": {
    "ExecuteTime": {
     "end_time": "2020-05-03T11:49:27.322730Z",
     "start_time": "2020-05-03T11:49:15.043902Z"
    }
   },
   "outputs": [
    {
     "name": "stdout",
     "output_type": "stream",
     "text": [
      "no. of chromosome: 6\n",
      "no. of variables  : 4\n",
      "\n",
      "***** Total of Fitness:  0.0609 \n",
      "\n",
      "\n",
      "************ for random no. generator **************\n",
      "\n",
      "1. Fixed random number as doc  \n",
      "2. Generate randomly \n",
      "3. Want to self enter '(0-1)': 1\n",
      "\n",
      "************** Table 1 ********************** Table 1 ********************** Table 1 *********************\n",
      "---------------  ----------------  ----------------  ----------------  ---------------  ---------------  ----------------\n",
      "chromosome       [26, 21, 14, 17]  [23, 18, 26, 26]  [16, 25, 13, 11]  [7, 23, 13, 17]  [4, 16, 3, 5]    [18, 23, 28, 13]\n",
      "F_obj            148               211               119               130              35               170\n",
      "Fitness          0.0067            0.0047            0.0083            0.0076           0.0278           0.0058\n",
      "Probability      0.11              0.0772            0.1363            0.1248           0.4565           0.0952\n",
      "Cum_Probability  0.11              0.1872            0.3235            0.4483           0.9048           1.0\n",
      "\n",
      "Rand_No          0.201             0.284             0.099             0.822            0.398            0.501\n",
      "NewChromosome    [16, 25, 13, 11]  [16, 25, 13, 11]  [26, 21, 14, 17]  [4, 16, 3, 5]    [7, 23, 13, 17]  [4, 16, 3, 5]\n",
      "---------------  ----------------  ----------------  ----------------  ---------------  ---------------  ----------------\n",
      "\n",
      "% value in int for crossover: 25\n",
      "\n",
      "************ for random no. generator **************\n",
      "\n",
      "1. Fixed random number as doc  \n",
      "2. Generate randomly \n",
      "3. Want to self enter '(0-1)': 1\n",
      "\n",
      "************** Table 2 ********************** Table 2 ********************** Table 2 *********************\n",
      "----------------------------------------  ----------------  -------------  ---------------  -----  -----  ----\n",
      "Rand_no1                                  0.191             0.259          0.76             0.006  0.159  0.34\n",
      "Rand_no1 <.25                             0.191             0.006          0.159\n",
      "chromosome associated with Rand_no1       [16, 25, 13, 11]  [4, 16, 3, 5]  [7, 23, 13, 17]\n",
      "position of chromosome in newchromo list  0                 3              4\n",
      "----------------------------------------  ----------------  -------------  ---------------  -----  -----  ----\n",
      "\n",
      "************** Table 3 ********************** Table 3 ********************** Table 3 *********************\n",
      "-------------------------------  -------------  ---------------  ----------------\n",
      "parent '('sorted as Rand_no1')'  [4, 16, 3, 5]  [7, 23, 13, 17]  [16, 25, 13, 11]\n",
      "position                         0              3                4\n",
      "-------------------------------  -------------  ---------------  ----------------\n",
      "\n",
      "************** Table 4 ********************** Table 4 ********************** Table 4 *********************\n",
      "--------------------  --------------  --------------  ---------------\n",
      "position              0               3               4\n",
      "exchange_point        1               3               3\n",
      "generated_chromosome  [16, 16, 3, 5]  [4, 16, 3, 17]  [7, 23, 13, 11]\n",
      "--------------------  --------------  --------------  ---------------\n",
      "\n",
      "% value in int for mutation_rate: 10\n",
      "\n",
      "total_gen in the population that will be mutated:  2\n",
      "\n",
      "************** Table 5 ********************** Table 5 ********************** Table 5 *********************\n",
      "------------------  --  --\n",
      "mutation_position    1   5\n",
      "random_no for gene  23  15\n",
      "------------------  --  --\n",
      "\n",
      "************** Table 6 ********************** Table 6 ********************** Table 6 *********************\n",
      "----------------------  --------------  ----------------  ----------------  --------------  ---------------  -------------\n",
      "crossovered_chromosome  [16, 16, 3, 5]  [16, 25, 13, 11]  [26, 21, 14, 17]  [4, 16, 3, 17]  [7, 23, 13, 11]  [4, 16, 3, 5]\n",
      "mutted_chromosome       [23, 16, 3, 5]  [15, 25, 13, 11]  [26, 21, 14, 17]  [4, 16, 3, 17]  [7, 23, 13, 11]  [4, 16, 3, 5]\n",
      "----------------------  --------------  ----------------  ----------------  --------------  ---------------  -------------\n"
     ]
    }
   ],
   "source": [
    "no_of_chro = int(input('no. of chromosome: '))        #  number of chromosomes in population\n",
    "no_of_var = int(input('no. of variables  : '))          #  number of variables\n",
    "\n",
    "chromosome = initialization(no_of_chro, no_of_var)    #  generate random value of gene for chromosomes\n",
    "F_obj = evaluation(chromosome)                        #  compute the objective function value for each chromosome\n",
    "Fitness, Total = chro_Fitness(F_obj)                  #  fitness of each chromosome\n",
    "Probability = Fitness_Prob(Fitness, Total)            #  probability for each chromosomes\n",
    "Cum_Probability = cumulative_Prob(Probability)        #  compute the cumulative probability values\n",
    "\n",
    "print('\\n***** Total of Fitness: ',Total,'\\n')        #  Total of Fitness use to compute probability\n",
    "\n",
    "empty = [' ']*no_of_chro   ##########################################################################################\n",
    "\n",
    "Rand_No = genrate_RandomNo(Cum_Probability, 'a')                       #  generate random number R in the range 0-1\n",
    "NewChromosome = chro_new(Rand_No, chromosome, Cum_Probability)    #  new population for next generation\n",
    "\n",
    "print(\"\\n************** Table 1 ********************** Table 1 ********************** Table 1 *********************\")\n",
    "title1 = ['chromosome','F_obj', 'Fitness','Probability' ,'Cum_Probability',' ','Rand_No', 'NewChromosome']\n",
    "table1 = [chromosome, F_obj, Fitness, Probability, Cum_Probability, empty, Rand_No, NewChromosome]\n",
    "print(tabulate(table1, showindex=title1))\n",
    "\n",
    "parent, position = chromo_sel(NewChromosome)                      #  crossover_rate process\n",
    "\n",
    "print(\"\\n************** Table 3 ********************** Table 3 ********************** Table 3 *********************\")\n",
    "title3 = [\"parent '('sorted as Rand_no1')' \",'position']\n",
    "table3 = [parent, position]\n",
    "print(tabulate(table3, showindex=title3))\n",
    "\n",
    "cross_over = cross(NewChromosome, parent, position)               #  Chromosome population after crossover process\n",
    "mut = mutation(cross_over)                                        #  Chromosome composition after mutation\n",
    "\n",
    "print(\"\\n************** Table 6 ********************** Table 6 ********************** Table 6 *********************\")\n",
    "title6 = ['crossovered_chromosome', 'mutted_chromosome']\n",
    "table6 = [cross_over, mut]\n",
    "print(tabulate(table6, showindex=title6))"
   ]
  },
  {
   "cell_type": "code",
   "execution_count": null,
   "metadata": {},
   "outputs": [],
   "source": []
  },
  {
   "cell_type": "code",
   "execution_count": null,
   "metadata": {},
   "outputs": [],
   "source": []
  }
 ],
 "metadata": {
  "kernelspec": {
   "display_name": "Python 3",
   "language": "python",
   "name": "python3"
  },
  "language_info": {
   "codemirror_mode": {
    "name": "ipython",
    "version": 3
   },
   "file_extension": ".py",
   "mimetype": "text/x-python",
   "name": "python",
   "nbconvert_exporter": "python",
   "pygments_lexer": "ipython3",
   "version": "3.7.6"
  }
 },
 "nbformat": 4,
 "nbformat_minor": 4
}
